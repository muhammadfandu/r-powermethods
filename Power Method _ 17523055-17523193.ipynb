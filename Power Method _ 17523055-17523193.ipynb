{
 "cells": [
  {
   "cell_type": "code",
   "execution_count": 42,
   "metadata": {},
   "outputs": [],
   "source": [
    "# Oleh \n",
    "# Muhammad Pandu Widodo 17523055\n",
    "# Dimas Fajar Imanto 17523193"
   ]
  },
  {
   "cell_type": "code",
   "execution_count": null,
   "metadata": {},
   "outputs": [],
   "source": []
  },
  {
   "cell_type": "markdown",
   "metadata": {},
   "source": [
    "Pemanggilan Library Matlib untuk bisa menggunakan function _powermethod_"
   ]
  },
  {
   "cell_type": "code",
   "execution_count": null,
   "metadata": {},
   "outputs": [],
   "source": [
    "library('matlib')"
   ]
  },
  {
   "cell_type": "code",
   "execution_count": 26,
   "metadata": {},
   "outputs": [
    {
     "data": {
      "text/html": [
       "<table>\n",
       "<tbody>\n",
       "\t<tr><td>4 </td><td>-5</td></tr>\n",
       "\t<tr><td>2 </td><td>-3</td></tr>\n",
       "</tbody>\n",
       "</table>\n"
      ],
      "text/latex": [
       "\\begin{tabular}{ll}\n",
       "\t 4  & -5\\\\\n",
       "\t 2  & -3\\\\\n",
       "\\end{tabular}\n"
      ],
      "text/markdown": [
       "\n",
       "| 4  | -5 | \n",
       "| 2  | -3 | \n",
       "\n",
       "\n"
      ],
      "text/plain": [
       "     [,1] [,2]\n",
       "[1,] 4    -5  \n",
       "[2,] 2    -3  "
      ]
     },
     "metadata": {},
     "output_type": "display_data"
    },
    {
     "data": {
      "text/html": [
       "<ol class=list-inline>\n",
       "\t<li>1</li>\n",
       "\t<li>0</li>\n",
       "</ol>\n"
      ],
      "text/latex": [
       "\\begin{enumerate*}\n",
       "\\item 1\n",
       "\\item 0\n",
       "\\end{enumerate*}\n"
      ],
      "text/markdown": [
       "1. 1\n",
       "2. 0\n",
       "\n",
       "\n"
      ],
      "text/plain": [
       "[1] 1 0"
      ]
     },
     "metadata": {},
     "output_type": "display_data"
    }
   ],
   "source": [
    "mat1 <- matrix(c(4,-5,2,-3),2,2,TRUE)\n",
    "x1 <- c(1,0)"
   ]
  },
  {
   "cell_type": "code",
   "execution_count": 101,
   "metadata": {},
   "outputs": [
    {
     "name": "stdout",
     "output_type": "stream",
     "text": [
      "iter 1 : vector= 0.8944272 0.4472136 \n",
      "iter 2 : vector= 0.9486833 0.3162278 \n",
      "iter 3 : vector= 0.919145 0.3939193 \n",
      "iter 4 : vector= 0.9333456 0.3589791 \n"
     ]
    },
    {
     "data": {
      "text/html": [
       "<dl>\n",
       "\t<dt>$vector</dt>\n",
       "\t\t<dd><table>\n",
       "<tbody>\n",
       "\t<tr><td>0.9333456</td></tr>\n",
       "\t<tr><td>0.3589791</td></tr>\n",
       "</tbody>\n",
       "</table>\n",
       "</dd>\n",
       "\t<dt>$value</dt>\n",
       "\t\t<dd>2.09278350515464</dd>\n",
       "\t<dt>$iter</dt>\n",
       "\t\t<dd>5</dd>\n",
       "</dl>\n"
      ],
      "text/latex": [
       "\\begin{description}\n",
       "\\item[\\$vector] \\begin{tabular}{l}\n",
       "\t 0.9333456\\\\\n",
       "\t 0.3589791\\\\\n",
       "\\end{tabular}\n",
       "\n",
       "\\item[\\$value] 2.09278350515464\n",
       "\\item[\\$iter] 5\n",
       "\\end{description}\n"
      ],
      "text/markdown": [
       "$vector\n",
       ":   \n",
       "| 0.9333456 | \n",
       "| 0.3589791 | \n",
       "\n",
       "\n",
       "\n",
       "$value\n",
       ":   2.09278350515464\n",
       "$iter\n",
       ":   5\n",
       "\n",
       "\n"
      ],
      "text/plain": [
       "$vector\n",
       "          [,1]\n",
       "[1,] 0.9333456\n",
       "[2,] 0.3589791\n",
       "\n",
       "$value\n",
       "[1] 2.092784\n",
       "\n",
       "$iter\n",
       "[1] 5\n"
      ]
     },
     "metadata": {},
     "output_type": "display_data"
    },
    {
     "data": {
      "text/html": [
       "<dl class=dl-horizontal>\n",
       "\t<dt>vector1</dt>\n",
       "\t\t<dd>0.933</dd>\n",
       "\t<dt>vector2</dt>\n",
       "\t\t<dd>0.359</dd>\n",
       "</dl>\n"
      ],
      "text/latex": [
       "\\begin{description*}\n",
       "\\item[vector1] 0.933\n",
       "\\item[vector2] 0.359\n",
       "\\end{description*}\n"
      ],
      "text/markdown": [
       "vector1\n",
       ":   0.933vector2\n",
       ":   0.359\n",
       "\n"
      ],
      "text/plain": [
       "vector1 vector2 \n",
       "  0.933   0.359 "
      ]
     },
     "metadata": {},
     "output_type": "display_data"
    },
    {
     "data": {
      "text/html": [
       "<strong>value:</strong> 2.09"
      ],
      "text/latex": [
       "\\textbf{value:} 2.09"
      ],
      "text/markdown": [
       "**value:** 2.09"
      ],
      "text/plain": [
       "value \n",
       " 2.09 "
      ]
     },
     "metadata": {},
     "output_type": "display_data"
    }
   ],
   "source": [
    "pm1 <- power_method(mat1,v = x1, maxiter = 5, verbose = TRUE)\n",
    "pm1\n",
    "\n",
    "eigenvector1 <- unlist(pm1['vector'])\n",
    "eigenvalue1 <- unlist(pm1['value'])\n",
    "signif(eigenvector1,3)\n",
    "signif(eigenvalue1,3)"
   ]
  },
  {
   "cell_type": "markdown",
   "metadata": {},
   "source": [
    "Sehingga hasil dari matriks pertama, Eigenvector bernilai __0.933__ dan __0.359__. Dan Eigenvalue bernilai __2.09__"
   ]
  },
  {
   "cell_type": "code",
   "execution_count": 28,
   "metadata": {},
   "outputs": [
    {
     "data": {
      "text/html": [
       "<table>\n",
       "<tbody>\n",
       "\t<tr><td> 0 </td><td>11 </td><td> -5</td></tr>\n",
       "\t<tr><td>-2 </td><td>17 </td><td> -7</td></tr>\n",
       "\t<tr><td>-4 </td><td>26 </td><td>-10</td></tr>\n",
       "</tbody>\n",
       "</table>\n"
      ],
      "text/latex": [
       "\\begin{tabular}{lll}\n",
       "\t  0  & 11  &  -5\\\\\n",
       "\t -2  & 17  &  -7\\\\\n",
       "\t -4  & 26  & -10\\\\\n",
       "\\end{tabular}\n"
      ],
      "text/markdown": [
       "\n",
       "|  0  | 11  |  -5 | \n",
       "| -2  | 17  |  -7 | \n",
       "| -4  | 26  | -10 | \n",
       "\n",
       "\n"
      ],
      "text/plain": [
       "     [,1] [,2] [,3]\n",
       "[1,]  0   11    -5 \n",
       "[2,] -2   17    -7 \n",
       "[3,] -4   26   -10 "
      ]
     },
     "metadata": {},
     "output_type": "display_data"
    },
    {
     "data": {
      "text/html": [
       "<ol class=list-inline>\n",
       "\t<li>1</li>\n",
       "\t<li>1</li>\n",
       "\t<li>0</li>\n",
       "</ol>\n"
      ],
      "text/latex": [
       "\\begin{enumerate*}\n",
       "\\item 1\n",
       "\\item 1\n",
       "\\item 0\n",
       "\\end{enumerate*}\n"
      ],
      "text/markdown": [
       "1. 1\n",
       "2. 1\n",
       "3. 0\n",
       "\n",
       "\n"
      ],
      "text/plain": [
       "[1] 1 1 0"
      ]
     },
     "metadata": {},
     "output_type": "display_data"
    }
   ],
   "source": [
    "mat2 <- matrix(c(0,11,-5,\n",
    "                -2,17,-7,\n",
    "                -4,26,-10),3,3,TRUE)\n",
    "x2 <- c(1,1,0)\n",
    "mat2\n",
    "x2"
   ]
  },
  {
   "cell_type": "code",
   "execution_count": 102,
   "metadata": {},
   "outputs": [
    {
     "name": "stdout",
     "output_type": "stream",
     "text": [
      "iter 1 : vector= 0.3818156 0.5206576 0.7636311 \n",
      "iter 2 : vector= 0.3468668 0.4982269 0.7946404 \n",
      "iter 3 : vector= 0.3347332 0.4915957 0.80392 \n",
      "iter 4 : vector= 0.3294046 0.4889547 0.8077227 \n"
     ]
    },
    {
     "data": {
      "text/html": [
       "<dl>\n",
       "\t<dt>$vector</dt>\n",
       "\t\t<dd><table>\n",
       "<tbody>\n",
       "\t<tr><td>0.3294046</td></tr>\n",
       "\t<tr><td>0.4889547</td></tr>\n",
       "\t<tr><td>0.8077227</td></tr>\n",
       "</tbody>\n",
       "</table>\n",
       "</dd>\n",
       "\t<dt>$value</dt>\n",
       "\t\t<dd>4.09896979522965</dd>\n",
       "\t<dt>$iter</dt>\n",
       "\t\t<dd>5</dd>\n",
       "</dl>\n"
      ],
      "text/latex": [
       "\\begin{description}\n",
       "\\item[\\$vector] \\begin{tabular}{l}\n",
       "\t 0.3294046\\\\\n",
       "\t 0.4889547\\\\\n",
       "\t 0.8077227\\\\\n",
       "\\end{tabular}\n",
       "\n",
       "\\item[\\$value] 4.09896979522965\n",
       "\\item[\\$iter] 5\n",
       "\\end{description}\n"
      ],
      "text/markdown": [
       "$vector\n",
       ":   \n",
       "| 0.3294046 | \n",
       "| 0.4889547 | \n",
       "| 0.8077227 | \n",
       "\n",
       "\n",
       "\n",
       "$value\n",
       ":   4.09896979522965\n",
       "$iter\n",
       ":   5\n",
       "\n",
       "\n"
      ],
      "text/plain": [
       "$vector\n",
       "          [,1]\n",
       "[1,] 0.3294046\n",
       "[2,] 0.4889547\n",
       "[3,] 0.8077227\n",
       "\n",
       "$value\n",
       "[1] 4.09897\n",
       "\n",
       "$iter\n",
       "[1] 5\n"
      ]
     },
     "metadata": {},
     "output_type": "display_data"
    },
    {
     "data": {
      "text/html": [
       "<dl class=dl-horizontal>\n",
       "\t<dt>vector1</dt>\n",
       "\t\t<dd>0.329</dd>\n",
       "\t<dt>vector2</dt>\n",
       "\t\t<dd>0.489</dd>\n",
       "\t<dt>vector3</dt>\n",
       "\t\t<dd>0.808</dd>\n",
       "</dl>\n"
      ],
      "text/latex": [
       "\\begin{description*}\n",
       "\\item[vector1] 0.329\n",
       "\\item[vector2] 0.489\n",
       "\\item[vector3] 0.808\n",
       "\\end{description*}\n"
      ],
      "text/markdown": [
       "vector1\n",
       ":   0.329vector2\n",
       ":   0.489vector3\n",
       ":   0.808\n",
       "\n"
      ],
      "text/plain": [
       "vector1 vector2 vector3 \n",
       "  0.329   0.489   0.808 "
      ]
     },
     "metadata": {},
     "output_type": "display_data"
    },
    {
     "data": {
      "text/html": [
       "<strong>value:</strong> 4.1"
      ],
      "text/latex": [
       "\\textbf{value:} 4.1"
      ],
      "text/markdown": [
       "**value:** 4.1"
      ],
      "text/plain": [
       "value \n",
       "  4.1 "
      ]
     },
     "metadata": {},
     "output_type": "display_data"
    }
   ],
   "source": [
    "pm2 <- power_method(mat2,v = x2, maxiter=5, verbose = TRUE)\n",
    "pm2\n",
    "\n",
    "eigenvector1 <- unlist(pm2['vector'])\n",
    "eigenvalue1 <- unlist(pm2['value'])\n",
    "signif(eigenvector1,3)\n",
    "signif(eigenvalue1,3)"
   ]
  },
  {
   "cell_type": "markdown",
   "metadata": {},
   "source": [
    "Sehingga hasil dari matriks kedua, Eigenvector bernilai __0.329__, __0.489__ dan __0.808__. Dan Eigenvalue bernilai __4.1__"
   ]
  }
 ],
 "metadata": {
  "kernelspec": {
   "display_name": "R",
   "language": "R",
   "name": "ir"
  },
  "language_info": {
   "codemirror_mode": "r",
   "file_extension": ".r",
   "mimetype": "text/x-r-source",
   "name": "R",
   "pygments_lexer": "r",
   "version": "3.4.3"
  }
 },
 "nbformat": 4,
 "nbformat_minor": 2
}
